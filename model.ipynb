{
 "cells": [
  {
   "cell_type": "code",
   "execution_count": 1,
   "metadata": {},
   "outputs": [],
   "source": [
    "import torch\n",
    "import torch.nn as nn"
   ]
  },
  {
   "cell_type": "code",
   "execution_count": 2,
   "metadata": {},
   "outputs": [],
   "source": [
    "class SpatioTemporalBlock(nn.Module):\n",
    "    def __init__(self, in_channels, out_channels):\n",
    "        super().__init__()\n",
    "        self.conv = nn.Sequential(\n",
    "            nn.Conv3d(in_channels, out_channels, kernel_size=3, padding=1),\n",
    "            nn.BatchNorm3d(out_channels),\n",
    "            nn.ReLU(inplace=True),\n",
    "            nn.MaxPool3d(kernel_size=2, stride=2)\n",
    "        )\n",
    "    \n",
    "    def forward(self, x):\n",
    "        return self.conv(x)"
   ]
  },
  {
   "cell_type": "code",
   "execution_count": 5,
   "metadata": {},
   "outputs": [],
   "source": [
    "class AnomalySTCN(nn.Module):\n",
    "    def __init__(self, num_views=3, input_channels=3, base_channels=32):\n",
    "        super().__init__()\n",
    "        self.num_views = num_views\n",
    "        \n",
    "        # Feature extraction\n",
    "        self.feature_extraction = nn.Sequential(\n",
    "            SpatioTemporalBlock(input_channels, base_channels),\n",
    "            SpatioTemporalBlock(base_channels, base_channels * 2),\n",
    "            SpatioTemporalBlock(base_channels * 2, base_channels * 4)\n",
    "        )\n",
    "        \n",
    "        # Global average pooling\n",
    "        self.gap = nn.AdaptiveAvgPool3d(1)\n",
    "        \n",
    "        # Multi-view fusion\n",
    "        fusion_dim = base_channels * 4\n",
    "        self.fusion = nn.Sequential(\n",
    "            nn.Linear(fusion_dim * num_views, fusion_dim),\n",
    "            nn.ReLU(inplace=True),\n",
    "            nn.Dropout(0.5)\n",
    "        )\n",
    "        \n",
    "        # Anomaly detection head\n",
    "        self.anomaly_head = nn.Sequential(\n",
    "            nn.Linear(fusion_dim, fusion_dim // 2),\n",
    "            nn.ReLU(inplace=True),\n",
    "            nn.Dropout(0.5),\n",
    "            nn.Linear(fusion_dim // 2, 1),\n",
    "            nn.Sigmoid()\n",
    "        )\n",
    "    \n",
    "    def forward(self, x):\n",
    "        # x shape: (batch_size, num_views, channels, time, H, W)\n",
    "        batch_size = x.size(0)\n",
    "        view_features = []\n",
    "        \n",
    "        # Process each view independently\n",
    "        for view_idx in range(self.num_views):\n",
    "            # Extract current view\n",
    "            current_view = x[:, view_idx]  # (batch_size, channels, time, H, W)\n",
    "            \n",
    "            # Extract spatio-temporal features\n",
    "            features = self.feature_extraction(current_view)\n",
    "            \n",
    "            # Global average pooling\n",
    "            features = self.gap(features)\n",
    "            features = features.view(batch_size, -1)\n",
    "            \n",
    "            view_features.append(features)\n",
    "        \n",
    "        # Concatenate features from all views\n",
    "        combined_features = torch.cat(view_features, dim=1)\n",
    "        \n",
    "        # Multi-view fusion\n",
    "        fused_features = self.fusion(combined_features)\n",
    "        \n",
    "        # Anomaly detection\n",
    "        anomaly_score = self.anomaly_head(fused_features)  # Will output shape (batch_size, 1)\n",
    "        \n",
    "        return anomaly_score"
   ]
  },
  {
   "cell_type": "code",
   "execution_count": 6,
   "metadata": {},
   "outputs": [],
   "source": [
    "def get_model(num_views=3, input_channels=3):\n",
    "    return AnomalySTCN(num_views=num_views, input_channels=input_channels)"
   ]
  }
 ],
 "metadata": {
  "kernelspec": {
   "display_name": "sign_translate",
   "language": "python",
   "name": "python3"
  },
  "language_info": {
   "codemirror_mode": {
    "name": "ipython",
    "version": 3
   },
   "file_extension": ".py",
   "mimetype": "text/x-python",
   "name": "python",
   "nbconvert_exporter": "python",
   "pygments_lexer": "ipython3",
   "version": "3.12.4"
  }
 },
 "nbformat": 4,
 "nbformat_minor": 2
}
